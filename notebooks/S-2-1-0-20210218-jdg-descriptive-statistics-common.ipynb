{
 "cells": [
  {
   "cell_type": "markdown",
   "metadata": {},
   "source": [
    "# Descriptive Statistics for Common Datasets\n",
    "This script can be run on each of the datasets. Dataset-specific scripts will be written separately.\n",
    "This script counts and removes duplicate rows, calculates the number of unique values per column, calculates the number/percent of nulls per column, and counts number of rows with the same set of null column(s).\n",
    "\n",
    "_Author: Jared Gauntt_"
   ]
  },
  {
   "cell_type": "markdown",
   "metadata": {},
   "source": [
    "## Prepare for Analysis\n"
   ]
  },
  {
   "cell_type": "markdown",
   "metadata": {},
   "source": [
    "### Set Parameters"
   ]
  },
  {
   "cell_type": "code",
   "execution_count": 1,
   "metadata": {},
   "outputs": [],
   "source": [
    "localFolder='../data/01_raw/' #If run from Git Hub project folder structure, script must be in \"notebooks\" folder\n",
    "fileName='20210225-ems-raw-v04.xlsx'\n",
    "sheetName='Patients'\n",
    "removeDuplicates=True"
   ]
  },
  {
   "cell_type": "markdown",
   "metadata": {},
   "source": [
    "### Import Libraries"
   ]
  },
  {
   "cell_type": "code",
   "execution_count": 2,
   "metadata": {},
   "outputs": [],
   "source": [
    "import pandas as pd\n",
    "pd.set_option('display.max_colwidth', None)"
   ]
  },
  {
   "cell_type": "markdown",
   "metadata": {},
   "source": [
    "### Import From Excel Spreadsheet"
   ]
  },
  {
   "cell_type": "code",
   "execution_count": 3,
   "metadata": {},
   "outputs": [
    {
     "output_type": "stream",
     "name": "stdout",
     "text": [
      "Patients\nNumber of Rows = 543774\nNumber of Columns = 12\n"
     ]
    },
    {
     "output_type": "execute_result",
     "data": {
      "text/plain": [
       "PatientId                         int64\n",
       "FRDPersonnelID                   object\n",
       "Shift                            object\n",
       "UnitId                           object\n",
       "FireStation                       int64\n",
       "Battalion                         int64\n",
       "PatientOutcome                   object\n",
       "PatientGender                    object\n",
       "CrewMemberRoles                  object\n",
       "DispatchTime             datetime64[ns]\n",
       "FRDPersonnelGender               object\n",
       "FRDPersonnelStartDate    datetime64[ns]\n",
       "dtype: object"
      ]
     },
     "metadata": {},
     "execution_count": 3
    }
   ],
   "source": [
    "#Import single tab \n",
    "df=pd.read_excel(localFolder+fileName,sheet_name=sheetName)\n",
    "\n",
    "#Print (1) number of rows/columns and (2) column names/types for quick confirmation of successful import\n",
    "numOriginalRows=len(df)\n",
    "numCols=len(df.columns)\n",
    "print(sheetName)\n",
    "print('Number of Rows = '+str(numOriginalRows))\n",
    "print('Number of Columns = '+str(numCols))\n",
    "df.dtypes"
   ]
  },
  {
   "cell_type": "markdown",
   "metadata": {},
   "source": [
    "## Numeric Analysis"
   ]
  },
  {
   "cell_type": "markdown",
   "metadata": {},
   "source": [
    "### Duplicate Rows\n",
    "Duplicate rows will likely need to be removed during data conditioning."
   ]
  },
  {
   "cell_type": "code",
   "execution_count": 4,
   "metadata": {},
   "outputs": [
    {
     "output_type": "stream",
     "name": "stdout",
     "text": [
      "Number of Duplicate Rows =\n14\nPercentage of Rows that are Duplicates = \n0.0026\n"
     ]
    }
   ],
   "source": [
    "#Determine which rows are duplicates (True=duplicate, False=first instance of row)\n",
    "duplicateRowIdentifier=df.duplicated()\n",
    "\n",
    "#Calculate number of duplicate rows\n",
    "numDuplicateRows=len(duplicateRowIdentifier[duplicateRowIdentifier==True])\n",
    "numUniqueRows=numOriginalRows-numDuplicateRows\n",
    "\n",
    "#Calculate percentage of rows that are duplicates\n",
    "percentDuplicateRows=round(numDuplicateRows/len(df)*100,4)\n",
    "\n",
    "#Print results\n",
    "print('Number of Duplicate Rows =')\n",
    "print(numDuplicateRows)\n",
    "print('Percentage of Rows that are Duplicates = ')\n",
    "print(percentDuplicateRows)"
   ]
  },
  {
   "cell_type": "markdown",
   "metadata": {},
   "source": [
    "Duplicate rows will be removed before conducting the remaining analysis in this script."
   ]
  },
  {
   "cell_type": "code",
   "execution_count": 5,
   "metadata": {},
   "outputs": [
    {
     "output_type": "stream",
     "name": "stdout",
     "text": [
      "Duplicates Removed\nExpected Number of Rows = 543760\nUpdated Data Frame Shape =\n(543760, 12)\n"
     ]
    }
   ],
   "source": [
    "if removeDuplicates:\n",
    "    #Reduce to the rows that were not flagged as duplicates\n",
    "    df=df.loc[duplicateRowIdentifier==False,:]\n",
    "    print('Duplicates Removed')\n",
    "    print('Expected Number of Rows = '+str(numUniqueRows))\n",
    "    print('Updated Data Frame Shape =')\n",
    "    print(df.shape)\n",
    "else:\n",
    "    print('Duplicate rows NOT Removed')"
   ]
  },
  {
   "cell_type": "markdown",
   "metadata": {},
   "source": [
    "### Unique Values Per Column\n",
    "This is a simple calculation of the number of unique values per individual column."
   ]
  },
  {
   "cell_type": "code",
   "execution_count": 6,
   "metadata": {},
   "outputs": [
    {
     "output_type": "stream",
     "name": "stdout",
     "text": [
      "PatientId                246929\nFRDPersonnelID             1833\nShift                         3\nUnitId                      167\nFireStation                  38\nBattalion                     7\nPatientOutcome               13\nPatientGender                 4\nCrewMemberRoles             204\nDispatchTime             244490\nFRDPersonnelGender            3\nFRDPersonnelStartDate       459\nName: Number of Unique Values, dtype: int64\n"
     ]
    }
   ],
   "source": [
    "#Calculate the number of unique values per columns (NULL counts as a value)\n",
    "dsNumUnique=df.nunique(dropna=False)\n",
    "dsNumUnique.name='Number of Unique Values'\n",
    "print(dsNumUnique)"
   ]
  },
  {
   "cell_type": "markdown",
   "metadata": {},
   "source": [
    "### Null Values Per Column\n",
    "This is a simple calculation of the number/percentage of null values per individual column."
   ]
  },
  {
   "cell_type": "code",
   "execution_count": 7,
   "metadata": {},
   "outputs": [
    {
     "output_type": "stream",
     "name": "stdout",
     "text": [
      "PatientId                     0\nFRDPersonnelID                0\nShift                         0\nUnitId                        0\nFireStation                   0\nBattalion                     0\nPatientOutcome                2\nPatientGender            131378\nCrewMemberRoles               0\nDispatchTime                  0\nFRDPersonnelGender          462\nFRDPersonnelStartDate       462\nName: Number Rows With Nulls, dtype: int64\n"
     ]
    }
   ],
   "source": [
    "#Calculate the number of null values per columns\n",
    "dsNumNull=df.isnull().sum()\n",
    "dsNumNull.name='Number Rows With Nulls'\n",
    "print(dsNumNull)"
   ]
  },
  {
   "cell_type": "code",
   "execution_count": 8,
   "metadata": {},
   "outputs": [
    {
     "output_type": "stream",
     "name": "stdout",
     "text": [
      "PatientId                 0.00\nFRDPersonnelID            0.00\nShift                     0.00\nUnitId                    0.00\nFireStation               0.00\nBattalion                 0.00\nPatientOutcome            0.00\nPatientGender            24.16\nCrewMemberRoles           0.00\nDispatchTime              0.00\nFRDPersonnelGender        0.08\nFRDPersonnelStartDate     0.08\nName: Percent Rows With Nulls, dtype: float64\n"
     ]
    }
   ],
   "source": [
    "#Calculate the percentage of null values per columns\n",
    "dsPercentNull=(dsNumNull/len(df)*100).round(2)\n",
    "dsPercentNull.name='Percent Rows With Nulls'\n",
    "print(dsPercentNull)"
   ]
  },
  {
   "cell_type": "code",
   "execution_count": 9,
   "metadata": {},
   "outputs": [],
   "source": [
    "#Merge data series (by column) together\n",
    "dfPerCol=pd.DataFrame()\n",
    "dfPerCol[dsNumUnique.name]=dsNumUnique\n",
    "dfPerCol[dsNumNull.name]=dsNumNull\n",
    "dfPerCol[dsPercentNull.name]=dsPercentNull"
   ]
  },
  {
   "cell_type": "markdown",
   "metadata": {},
   "source": [
    "### Null Values Per Row\n",
    "This section determines which columns have a null value per each row, resulting in a data series matching the number of unique rows in the dataset. The series values are tuples of column names. The resulting table shows the unique tuples of column names with their corresponding row count. Once the data subsets for the project questions are determined, this will help inform the completeness of those data subsets."
   ]
  },
  {
   "cell_type": "code",
   "execution_count": 10,
   "metadata": {},
   "outputs": [
    {
     "output_type": "execute_result",
     "data": {
      "text/plain": [
       "                                            Columns With Null  Number of Rows  \\\n",
       "0                                                          ()          412008   \n",
       "1                                            (PatientGender,)          131288   \n",
       "2                 (FRDPersonnelGender, FRDPersonnelStartDate)             374   \n",
       "3  (FRDPersonnelGender, FRDPersonnelStartDate, PatientGender)              88   \n",
       "4                             (PatientGender, PatientOutcome)               2   \n",
       "\n",
       "   Percent of Rows  \n",
       "0            75.77  \n",
       "1            24.14  \n",
       "2             0.07  \n",
       "3             0.02  \n",
       "4             0.00  "
      ],
      "text/html": "<div>\n<style scoped>\n    .dataframe tbody tr th:only-of-type {\n        vertical-align: middle;\n    }\n\n    .dataframe tbody tr th {\n        vertical-align: top;\n    }\n\n    .dataframe thead th {\n        text-align: right;\n    }\n</style>\n<table border=\"1\" class=\"dataframe\">\n  <thead>\n    <tr style=\"text-align: right;\">\n      <th></th>\n      <th>Columns With Null</th>\n      <th>Number of Rows</th>\n      <th>Percent of Rows</th>\n    </tr>\n  </thead>\n  <tbody>\n    <tr>\n      <th>0</th>\n      <td>()</td>\n      <td>412008</td>\n      <td>75.77</td>\n    </tr>\n    <tr>\n      <th>1</th>\n      <td>(PatientGender,)</td>\n      <td>131288</td>\n      <td>24.14</td>\n    </tr>\n    <tr>\n      <th>2</th>\n      <td>(FRDPersonnelGender, FRDPersonnelStartDate)</td>\n      <td>374</td>\n      <td>0.07</td>\n    </tr>\n    <tr>\n      <th>3</th>\n      <td>(FRDPersonnelGender, FRDPersonnelStartDate, PatientGender)</td>\n      <td>88</td>\n      <td>0.02</td>\n    </tr>\n    <tr>\n      <th>4</th>\n      <td>(PatientGender, PatientOutcome)</td>\n      <td>2</td>\n      <td>0.00</td>\n    </tr>\n  </tbody>\n</table>\n</div>"
     },
     "metadata": {},
     "execution_count": 10
    }
   ],
   "source": [
    "#For a single row, determine which columns have null values\n",
    "def NullsPerRow(dsRow):  \n",
    "    columnsNull=list(dsRow[dsRow.isnull()].index)\n",
    "    columnsNull.sort()\n",
    "    columnsNull=tuple(columnsNull) #used tuple since lists can't be used by pandas unique()\n",
    "    return(columnsNull)\n",
    "dsNulls=df.apply(NullsPerRow,axis=1)\n",
    "\n",
    "#Create data frame for counting \n",
    "dfNulls=pd.DataFrame(dsNulls.unique(),columns=['Columns With Null'])\n",
    "dfNulls['Number of Rows']=0\n",
    "\n",
    "#Count the number of rows per each tuple of null columns\n",
    "for index in dfNulls.index:\n",
    "    dfNulls.loc[index,'Number of Rows']=len(dsNulls[dsNulls==dfNulls.loc[index,'Columns With Null']])\n",
    "dfNulls.sort_values(by='Number of Rows',ascending=False,inplace=True)\n",
    "dfNulls.reset_index(drop=True,inplace=True)\n",
    "\n",
    "#Add a column for percent of rows\n",
    "dfNulls['Percent of Rows']=(dfNulls['Number of Rows']/dfNulls['Number of Rows'].sum()*100).round(2)\n",
    "dfNulls"
   ]
  },
  {
   "cell_type": "markdown",
   "metadata": {},
   "source": [
    "## Visualizations"
   ]
  },
  {
   "cell_type": "code",
   "execution_count": 11,
   "metadata": {},
   "outputs": [
    {
     "output_type": "stream",
     "name": "stdout",
     "text": [
      "Patients Dataset\n\nOriginal Number of Rows = 543774\nDuplicate Number of Rows = 14\nPercent Duplicate Rows = 0.0026\n\nDuplicate rows removed prior to remaining analysis\nUnique Number of Rows = 543760\n\n"
     ]
    }
   ],
   "source": [
    "print(sheetName+' Dataset\\n')\n",
    "print('Original Number of Rows = '+str(numOriginalRows))\n",
    "print('Duplicate Number of Rows = '+str(numDuplicateRows))\n",
    "print('Percent Duplicate Rows = '+str(percentDuplicateRows)+'\\n')\n",
    "if removeDuplicates:\n",
    "    print('Duplicate rows removed prior to remaining analysis')\n",
    "    print('Unique Number of Rows = '+str(numUniqueRows)+'\\n')\n",
    "else:\n",
    "    print('Duplicate Rows NOT Removed')"
   ]
  },
  {
   "cell_type": "code",
   "execution_count": 12,
   "metadata": {},
   "outputs": [
    {
     "output_type": "execute_result",
     "data": {
      "text/plain": [
       "                       Number of Unique Values  Number Rows With Nulls  \\\n",
       "PatientId                               246929                       0   \n",
       "FRDPersonnelID                            1833                       0   \n",
       "Shift                                        3                       0   \n",
       "UnitId                                     167                       0   \n",
       "FireStation                                 38                       0   \n",
       "Battalion                                    7                       0   \n",
       "PatientOutcome                              13                       2   \n",
       "PatientGender                                4                  131378   \n",
       "CrewMemberRoles                            204                       0   \n",
       "DispatchTime                            244490                       0   \n",
       "FRDPersonnelGender                           3                     462   \n",
       "FRDPersonnelStartDate                      459                     462   \n",
       "\n",
       "                       Percent Rows With Nulls  \n",
       "PatientId                                 0.00  \n",
       "FRDPersonnelID                            0.00  \n",
       "Shift                                     0.00  \n",
       "UnitId                                    0.00  \n",
       "FireStation                               0.00  \n",
       "Battalion                                 0.00  \n",
       "PatientOutcome                            0.00  \n",
       "PatientGender                            24.16  \n",
       "CrewMemberRoles                           0.00  \n",
       "DispatchTime                              0.00  \n",
       "FRDPersonnelGender                        0.08  \n",
       "FRDPersonnelStartDate                     0.08  "
      ],
      "text/html": "<div>\n<style scoped>\n    .dataframe tbody tr th:only-of-type {\n        vertical-align: middle;\n    }\n\n    .dataframe tbody tr th {\n        vertical-align: top;\n    }\n\n    .dataframe thead th {\n        text-align: right;\n    }\n</style>\n<table border=\"1\" class=\"dataframe\">\n  <thead>\n    <tr style=\"text-align: right;\">\n      <th></th>\n      <th>Number of Unique Values</th>\n      <th>Number Rows With Nulls</th>\n      <th>Percent Rows With Nulls</th>\n    </tr>\n  </thead>\n  <tbody>\n    <tr>\n      <th>PatientId</th>\n      <td>246929</td>\n      <td>0</td>\n      <td>0.00</td>\n    </tr>\n    <tr>\n      <th>FRDPersonnelID</th>\n      <td>1833</td>\n      <td>0</td>\n      <td>0.00</td>\n    </tr>\n    <tr>\n      <th>Shift</th>\n      <td>3</td>\n      <td>0</td>\n      <td>0.00</td>\n    </tr>\n    <tr>\n      <th>UnitId</th>\n      <td>167</td>\n      <td>0</td>\n      <td>0.00</td>\n    </tr>\n    <tr>\n      <th>FireStation</th>\n      <td>38</td>\n      <td>0</td>\n      <td>0.00</td>\n    </tr>\n    <tr>\n      <th>Battalion</th>\n      <td>7</td>\n      <td>0</td>\n      <td>0.00</td>\n    </tr>\n    <tr>\n      <th>PatientOutcome</th>\n      <td>13</td>\n      <td>2</td>\n      <td>0.00</td>\n    </tr>\n    <tr>\n      <th>PatientGender</th>\n      <td>4</td>\n      <td>131378</td>\n      <td>24.16</td>\n    </tr>\n    <tr>\n      <th>CrewMemberRoles</th>\n      <td>204</td>\n      <td>0</td>\n      <td>0.00</td>\n    </tr>\n    <tr>\n      <th>DispatchTime</th>\n      <td>244490</td>\n      <td>0</td>\n      <td>0.00</td>\n    </tr>\n    <tr>\n      <th>FRDPersonnelGender</th>\n      <td>3</td>\n      <td>462</td>\n      <td>0.08</td>\n    </tr>\n    <tr>\n      <th>FRDPersonnelStartDate</th>\n      <td>459</td>\n      <td>462</td>\n      <td>0.08</td>\n    </tr>\n  </tbody>\n</table>\n</div>"
     },
     "metadata": {},
     "execution_count": 12
    }
   ],
   "source": [
    "dfPerCol"
   ]
  },
  {
   "cell_type": "markdown",
   "metadata": {},
   "source": [
    "\"Columns With Null\" shows that for a single row, these columns had null values. If we find that one of our data subsets (for answering specific questions) has the same columns as one of these tuples with a high count, there might be a problem with too many nulls."
   ]
  },
  {
   "cell_type": "code",
   "execution_count": 13,
   "metadata": {},
   "outputs": [
    {
     "output_type": "execute_result",
     "data": {
      "text/plain": [
       "                                            Columns With Null  Number of Rows  \\\n",
       "0                                                          ()          412008   \n",
       "1                                            (PatientGender,)          131288   \n",
       "2                 (FRDPersonnelGender, FRDPersonnelStartDate)             374   \n",
       "3  (FRDPersonnelGender, FRDPersonnelStartDate, PatientGender)              88   \n",
       "4                             (PatientGender, PatientOutcome)               2   \n",
       "\n",
       "   Percent of Rows  \n",
       "0            75.77  \n",
       "1            24.14  \n",
       "2             0.07  \n",
       "3             0.02  \n",
       "4             0.00  "
      ],
      "text/html": "<div>\n<style scoped>\n    .dataframe tbody tr th:only-of-type {\n        vertical-align: middle;\n    }\n\n    .dataframe tbody tr th {\n        vertical-align: top;\n    }\n\n    .dataframe thead th {\n        text-align: right;\n    }\n</style>\n<table border=\"1\" class=\"dataframe\">\n  <thead>\n    <tr style=\"text-align: right;\">\n      <th></th>\n      <th>Columns With Null</th>\n      <th>Number of Rows</th>\n      <th>Percent of Rows</th>\n    </tr>\n  </thead>\n  <tbody>\n    <tr>\n      <th>0</th>\n      <td>()</td>\n      <td>412008</td>\n      <td>75.77</td>\n    </tr>\n    <tr>\n      <th>1</th>\n      <td>(PatientGender,)</td>\n      <td>131288</td>\n      <td>24.14</td>\n    </tr>\n    <tr>\n      <th>2</th>\n      <td>(FRDPersonnelGender, FRDPersonnelStartDate)</td>\n      <td>374</td>\n      <td>0.07</td>\n    </tr>\n    <tr>\n      <th>3</th>\n      <td>(FRDPersonnelGender, FRDPersonnelStartDate, PatientGender)</td>\n      <td>88</td>\n      <td>0.02</td>\n    </tr>\n    <tr>\n      <th>4</th>\n      <td>(PatientGender, PatientOutcome)</td>\n      <td>2</td>\n      <td>0.00</td>\n    </tr>\n  </tbody>\n</table>\n</div>"
     },
     "metadata": {},
     "execution_count": 13
    }
   ],
   "source": [
    "dfNulls"
   ]
  }
 ],
 "metadata": {
  "kernelspec": {
   "name": "python388jvsc74a57bd096ec33e3eb774d004a725f15a9db8d96c6a0aab6ebfd7b7ac1d5f7e8cede39f2",
   "display_name": "Python 3.8.8 64-bit ('FCFRD_EMS_ENV': conda)"
  },
  "language_info": {
   "codemirror_mode": {
    "name": "ipython",
    "version": 3
   },
   "file_extension": ".py",
   "mimetype": "text/x-python",
   "name": "python",
   "nbconvert_exporter": "python",
   "pygments_lexer": "ipython3",
   "version": "3.8.8"
  },
  "metadata": {
   "interpreter": {
    "hash": "96ec33e3eb774d004a725f15a9db8d96c6a0aab6ebfd7b7ac1d5f7e8cede39f2"
   }
  }
 },
 "nbformat": 4,
 "nbformat_minor": 4
}